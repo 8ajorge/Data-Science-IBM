{
 "cells": [
  {
   "cell_type": "markdown",
   "id": "89156b80-1c77-4af0-bace-a0e44de58a8b",
   "metadata": {},
   "source": [
    "# Data Science Tools and Ecosystem"
   ]
  },
  {
   "cell_type": "markdown",
   "id": "97586c70-760e-4e78-bfd5-9ff89399c306",
   "metadata": {},
   "source": [
    "In this notebook, Data Science Tools and Ecosystem are summarized."
   ]
  },
  {
   "cell_type": "markdown",
   "id": "a2ed6fdf-760e-4339-b6e4-954879ad1b1a",
   "metadata": {},
   "source": [
    "__Objectives:__\n",
    "\n",
    "<ul>\n",
    "<li>Practice markdown</li>\n",
    "<li>Basic concepts Jupyter</li>\n",
    "<li>Numpy</li>\n",
    "</ul>\n",
    "\n",
    "\n"
   ]
  },
  {
   "cell_type": "markdown",
   "id": "a230b865-13d8-4b91-bf33-822a797c345c",
   "metadata": {},
   "source": [
    "Some of the popular languages that Data Scientists use are:\n",
    "1. Python\n",
    "2. R"
   ]
  },
  {
   "cell_type": "markdown",
   "id": "95788542-eee1-45ba-88e4-7745fc1ac1c4",
   "metadata": {},
   "source": [
    "Some of the commonly used libraries used by Data Scientists include:\n",
    "1. pandas\n",
    "2. Numpy\n",
    "3. Scikit-learn"
   ]
  },
  {
   "cell_type": "markdown",
   "id": "a176b0f3-176d-4ae2-a275-1c2e6336d910",
   "metadata": {},
   "source": [
    "| Data Science Tools | \n",
    "|:--------:|\n",
    "|  Jupyter  |  \n",
    "|  Pytorch |  \n",
    "|  IBM  | "
   ]
  },
  {
   "cell_type": "markdown",
   "id": "41576b29-5a36-489b-a94c-610c408d5e48",
   "metadata": {},
   "source": [
    "### Below are a few examples of evaluating arithmetic expressions in Python"
   ]
  },
  {
   "cell_type": "code",
   "execution_count": null,
   "id": "af4cbeb3-c6d7-49d3-8392-10bdc2970c24",
   "metadata": {},
   "outputs": [],
   "source": [
    " This a simple arithmetic expression to mutiply then add integers"
   ]
  },
  {
   "cell_type": "code",
   "execution_count": 3,
   "id": "54c63bd0-9595-42b5-87d0-7141779ae4c4",
   "metadata": {},
   "outputs": [
    {
     "data": {
      "text/plain": [
       "17"
      ]
     },
     "execution_count": 3,
     "metadata": {},
     "output_type": "execute_result"
    }
   ],
   "source": [
    "(3*4)+5"
   ]
  },
  {
   "cell_type": "markdown",
   "id": "eda9ddcb-65ee-4c77-b6f8-8f1d9e27b9e4",
   "metadata": {},
   "source": [
    "## Author\n",
    "Jorge Ochoa"
   ]
  },
  {
   "cell_type": "code",
   "execution_count": null,
   "id": "5c2e01a8-533f-46e5-9731-33c152f90ef3",
   "metadata": {},
   "outputs": [],
   "source": []
  }
 ],
 "metadata": {
  "kernelspec": {
   "display_name": "Python 3 (ipykernel)",
   "language": "python",
   "name": "python3"
  },
  "language_info": {
   "codemirror_mode": {
    "name": "ipython",
    "version": 3
   },
   "file_extension": ".py",
   "mimetype": "text/x-python",
   "name": "python",
   "nbconvert_exporter": "python",
   "pygments_lexer": "ipython3",
   "version": "3.9.7"
  }
 },
 "nbformat": 4,
 "nbformat_minor": 5
}
